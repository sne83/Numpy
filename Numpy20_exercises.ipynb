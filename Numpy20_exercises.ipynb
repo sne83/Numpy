{
  "nbformat": 4,
  "nbformat_minor": 0,
  "metadata": {
    "colab": {
      "provenance": [],
      "authorship_tag": "ABX9TyNARFuSjVyeOtFvWtU3s8Rw"
    },
    "kernelspec": {
      "name": "python3",
      "display_name": "Python 3"
    },
    "language_info": {
      "name": "python"
    }
  },
  "cells": [
    {
      "cell_type": "code",
      "execution_count": 3,
      "metadata": {
        "colab": {
          "base_uri": "https://localhost:8080/"
        },
        "id": "c5v2OyBibEaY",
        "outputId": "c3ab4081-1b6a-40a1-9d9b-792ea887223d"
      },
      "outputs": [
        {
          "output_type": "stream",
          "name": "stdout",
          "text": [
            "1.23.5\n"
          ]
        }
      ],
      "source": [
        "import numpy as np\n",
        "print(np.__version__)"
      ]
    },
    {
      "cell_type": "markdown",
      "source": [
        "2. How to create a 1D array?"
      ],
      "metadata": {
        "id": "KypfCDOZcLjd"
      }
    },
    {
      "cell_type": "code",
      "source": [
        "x = np.arange(10)\n",
        "x"
      ],
      "metadata": {
        "colab": {
          "base_uri": "https://localhost:8080/"
        },
        "id": "1OaG7jsOcDyD",
        "outputId": "e8a3745b-12d1-4761-b305-ebde12dfe260"
      },
      "execution_count": 4,
      "outputs": [
        {
          "output_type": "execute_result",
          "data": {
            "text/plain": [
              "array([0, 1, 2, 3, 4, 5, 6, 7, 8, 9])"
            ]
          },
          "metadata": {},
          "execution_count": 4
        }
      ]
    },
    {
      "cell_type": "markdown",
      "source": [
        "3. How to create a boolean array?"
      ],
      "metadata": {
        "id": "Vu8qNDJjcMTw"
      }
    },
    {
      "cell_type": "code",
      "source": [
        "np.full((3,3), True, dtype = bool)"
      ],
      "metadata": {
        "colab": {
          "base_uri": "https://localhost:8080/"
        },
        "id": "8JRIoGO-cMoD",
        "outputId": "53ca7e2b-1339-4453-e185-ed0a2166dd50"
      },
      "execution_count": 8,
      "outputs": [
        {
          "output_type": "execute_result",
          "data": {
            "text/plain": [
              "array([[ True,  True,  True],\n",
              "       [ True,  True,  True],\n",
              "       [ True,  True,  True]])"
            ]
          },
          "metadata": {},
          "execution_count": 8
        }
      ]
    },
    {
      "cell_type": "code",
      "source": [
        "# or\n",
        "np.full((9),True, dtype = bool).reshape(3,3)"
      ],
      "metadata": {
        "colab": {
          "base_uri": "https://localhost:8080/"
        },
        "id": "EzRz3i7xcNHj",
        "outputId": "000d221c-e4ed-47be-faa8-f545e6f9c985"
      },
      "execution_count": 10,
      "outputs": [
        {
          "output_type": "execute_result",
          "data": {
            "text/plain": [
              "array([[ True,  True,  True],\n",
              "       [ True,  True,  True],\n",
              "       [ True,  True,  True]])"
            ]
          },
          "metadata": {},
          "execution_count": 10
        }
      ]
    },
    {
      "cell_type": "code",
      "source": [
        "# or\n",
        "np.ones((3,3), dtype = bool)"
      ],
      "metadata": {
        "colab": {
          "base_uri": "https://localhost:8080/"
        },
        "id": "Rdn_12dQdcja",
        "outputId": "dbe8b8eb-10de-46b2-8a57-637aa1deea69"
      },
      "execution_count": 11,
      "outputs": [
        {
          "output_type": "execute_result",
          "data": {
            "text/plain": [
              "array([[ True,  True,  True],\n",
              "       [ True,  True,  True],\n",
              "       [ True,  True,  True]])"
            ]
          },
          "metadata": {},
          "execution_count": 11
        }
      ]
    },
    {
      "cell_type": "code",
      "source": [
        "# or\n",
        "np.ones((9), dtype = bool).reshape(3,3)"
      ],
      "metadata": {
        "colab": {
          "base_uri": "https://localhost:8080/"
        },
        "id": "1vcobS2xee3b",
        "outputId": "c59554a8-7859-4d94-ad82-822f1bef7150"
      },
      "execution_count": 13,
      "outputs": [
        {
          "output_type": "execute_result",
          "data": {
            "text/plain": [
              "array([[ True,  True,  True],\n",
              "       [ True,  True,  True],\n",
              "       [ True,  True,  True]])"
            ]
          },
          "metadata": {},
          "execution_count": 13
        }
      ]
    },
    {
      "cell_type": "markdown",
      "source": [
        "4. How to extract items that satisfy a given condition from 1D array?"
      ],
      "metadata": {
        "id": "CTPbeGjtcNVo"
      }
    },
    {
      "cell_type": "code",
      "source": [
        "# Question : Extract all odd numbers from array\n",
        "# input: arr = np.array([0, 1, 2, 3, 4, 5, 6, 7, 8, 9])\n",
        "# output: array([1, 3, 5, 7, 9])\n",
        "x = np.arange(10)\n",
        "x[x%2 == 1]"
      ],
      "metadata": {
        "colab": {
          "base_uri": "https://localhost:8080/"
        },
        "id": "54pgSh1McNmH",
        "outputId": "49d59f37-ce44-4228-8899-fcc24a5bf548"
      },
      "execution_count": 15,
      "outputs": [
        {
          "output_type": "execute_result",
          "data": {
            "text/plain": [
              "array([1, 3, 5, 7, 9])"
            ]
          },
          "metadata": {},
          "execution_count": 15
        }
      ]
    },
    {
      "cell_type": "markdown",
      "source": [
        "5. How to replace items that satisfy a condition with another value in numpy array?"
      ],
      "metadata": {
        "id": "in9Iaya2cN0q"
      }
    },
    {
      "cell_type": "code",
      "source": [
        "# Question: Replace all odd numbers in arr with -1\n",
        "# input: arr = np.array([0, 1, 2, 3, 4, 5, 6, 7, 8, 9])\n",
        "# output: array([ 0, -1,  2, -1,  4, -1,  6, -1,  8, -1])\n",
        "arr = np.arange(10)\n",
        "arr[arr%2 == 1] = -1\n",
        "arr"
      ],
      "metadata": {
        "colab": {
          "base_uri": "https://localhost:8080/"
        },
        "id": "56gCbCgycOEh",
        "outputId": "4d51e293-7e19-49d9-bca1-df5512bc194f"
      },
      "execution_count": 17,
      "outputs": [
        {
          "output_type": "execute_result",
          "data": {
            "text/plain": [
              "array([ 0, -1,  2, -1,  4, -1,  6, -1,  8, -1])"
            ]
          },
          "metadata": {},
          "execution_count": 17
        }
      ]
    },
    {
      "cell_type": "markdown",
      "source": [
        " 6. How to replace items that satisfy a condition without affecting the original array?"
      ],
      "metadata": {
        "id": "KyXnH5L3cOT5"
      }
    },
    {
      "cell_type": "code",
      "source": [
        "# Question: Replace all odd numbers in arr with -1 without changing arr\n",
        "# input: arr = np.array([0, 1, 2, 3, 4, 5, 6, 7, 8, 9])\n",
        "# output:\n",
        "# array([ 0, -1,  2, -1,  4, -1,  6, -1,  8, -1])\n",
        "# arr\n",
        "# array([0, 1, 2, 3, 4, 5, 6, 7, 8, 9])\n",
        "arr = np.arange(10)\n",
        "out = arr.copy()\n",
        "out[out%2 == 1] = -1\n",
        "print('Modified array:',out)\n",
        "print('Original array',arr)"
      ],
      "metadata": {
        "colab": {
          "base_uri": "https://localhost:8080/"
        },
        "id": "81apyBLvcOk3",
        "outputId": "d616f550-c51a-4af1-d691-749c453a7a11"
      },
      "execution_count": 18,
      "outputs": [
        {
          "output_type": "stream",
          "name": "stdout",
          "text": [
            "Modified array: [ 0 -1  2 -1  4 -1  6 -1  8 -1]\n",
            "Original array [0 1 2 3 4 5 6 7 8 9]\n"
          ]
        }
      ]
    },
    {
      "cell_type": "markdown",
      "source": [
        "7. How to reshape an array?"
      ],
      "metadata": {
        "id": "4HIre_ZZcOz5"
      }
    },
    {
      "cell_type": "code",
      "source": [
        "# Question: Convert a 1D array to a 2D array with 2 rows\n",
        "# input: np.arange(10)\n",
        "# output array([[0, 1, 2, 3, 4],\n",
        "#               [5, 6, 7, 8, 9]])\n",
        "arr = np.arange(10)\n",
        "arr.reshape(2,5)"
      ],
      "metadata": {
        "colab": {
          "base_uri": "https://localhost:8080/"
        },
        "id": "fquPxXmjcPDk",
        "outputId": "6716423f-e184-4e3a-b4fc-51be75a31bda"
      },
      "execution_count": 19,
      "outputs": [
        {
          "output_type": "execute_result",
          "data": {
            "text/plain": [
              "array([[0, 1, 2, 3, 4],\n",
              "       [5, 6, 7, 8, 9]])"
            ]
          },
          "metadata": {},
          "execution_count": 19
        }
      ]
    },
    {
      "cell_type": "code",
      "source": [
        "# or\n",
        "arr = np.arange(10)\n",
        "arr.reshape(2,-1)   # Setting to -1 automatically decides the number of cols"
      ],
      "metadata": {
        "colab": {
          "base_uri": "https://localhost:8080/"
        },
        "id": "HH3dCT2DjkrC",
        "outputId": "52d5e823-f01d-433d-99ca-810ad23188dd"
      },
      "execution_count": 20,
      "outputs": [
        {
          "output_type": "execute_result",
          "data": {
            "text/plain": [
              "array([[0, 1, 2, 3, 4],\n",
              "       [5, 6, 7, 8, 9]])"
            ]
          },
          "metadata": {},
          "execution_count": 20
        }
      ]
    },
    {
      "cell_type": "markdown",
      "source": [
        "8. How to stack two arrays vertically?"
      ],
      "metadata": {
        "id": "dRX7j7dWcPTL"
      }
    },
    {
      "cell_type": "code",
      "source": [
        "# Question: Stack arrays a and b vertically\n",
        "# input: a = np.arange(10).reshape(2,-1)\n",
        "#        b = np.repeat(1, 10).reshape(2,-1)\n",
        "# output: array([[0, 1, 2, 3, 4],\n",
        "#                [5, 6, 7, 8, 9],\n",
        "#                [1, 1, 1, 1, 1],\n",
        "#                [1, 1, 1, 1, 1]])\n",
        "a = np.arange(10).reshape(2,5)\n",
        "b = np.repeat(1,10).reshape(2,5)\n",
        "np.vstack([a,b])"
      ],
      "metadata": {
        "colab": {
          "base_uri": "https://localhost:8080/"
        },
        "id": "rXYnnb28cPjF",
        "outputId": "3e4a335c-bf5e-4f8c-af0e-44eb609aa8bc"
      },
      "execution_count": 21,
      "outputs": [
        {
          "output_type": "execute_result",
          "data": {
            "text/plain": [
              "array([[0, 1, 2, 3, 4],\n",
              "       [5, 6, 7, 8, 9],\n",
              "       [1, 1, 1, 1, 1],\n",
              "       [1, 1, 1, 1, 1]])"
            ]
          },
          "metadata": {},
          "execution_count": 21
        }
      ]
    },
    {
      "cell_type": "markdown",
      "source": [
        "9. How to stack two arrays horizontally?"
      ],
      "metadata": {
        "id": "v4XOdRzxcP0R"
      }
    },
    {
      "cell_type": "code",
      "source": [
        "a = np.arange(10).reshape(2,-1)\n",
        "b = np.repeat(1, 10).reshape(2,-1)\n",
        "np.hstack([a,b])"
      ],
      "metadata": {
        "colab": {
          "base_uri": "https://localhost:8080/"
        },
        "id": "0EV87jTscQG9",
        "outputId": "75ba48e8-f216-4706-89b9-aa9df7c5e65f"
      },
      "execution_count": 22,
      "outputs": [
        {
          "output_type": "execute_result",
          "data": {
            "text/plain": [
              "array([[0, 1, 2, 3, 4, 1, 1, 1, 1, 1],\n",
              "       [5, 6, 7, 8, 9, 1, 1, 1, 1, 1]])"
            ]
          },
          "metadata": {},
          "execution_count": 22
        }
      ]
    },
    {
      "cell_type": "markdown",
      "source": [
        "10. How to generate custom sequences in numpy without hardcoding?\n",
        "\n"
      ],
      "metadata": {
        "id": "G1uU0CRMcQXZ"
      }
    },
    {
      "cell_type": "code",
      "source": [
        "# Input: a = np.array([1,2,3])\n",
        "# Output: array([1, 1, 1, 2, 2, 2, 3, 3, 3, 1, 2, 3, 1, 2, 3, 1, 2, 3])\n",
        "a = np.array([1,2,3])\n",
        "np.hstack((np.repeat(a, 3), np.tile(a, 3)))"
      ],
      "metadata": {
        "colab": {
          "base_uri": "https://localhost:8080/"
        },
        "id": "Uw3ELnFDcQoV",
        "outputId": "ad0c02c4-dddd-4758-c7e1-9a1220023fb6"
      },
      "execution_count": 23,
      "outputs": [
        {
          "output_type": "execute_result",
          "data": {
            "text/plain": [
              "array([1, 1, 1, 2, 2, 2, 3, 3, 3, 1, 2, 3, 1, 2, 3, 1, 2, 3])"
            ]
          },
          "metadata": {},
          "execution_count": 23
        }
      ]
    },
    {
      "cell_type": "markdown",
      "source": [
        "11. How to get the common items between two python numpy arrays?"
      ],
      "metadata": {
        "id": "e33l8e4zcQ37"
      }
    },
    {
      "cell_type": "code",
      "source": [
        "a = np.array([1,2,3,2,3,4,3,4,5,6])\n",
        "b = np.array([7,2,10,2,7,4,9,4,9,8])\n",
        "np.intersect1d(a,b)"
      ],
      "metadata": {
        "colab": {
          "base_uri": "https://localhost:8080/"
        },
        "id": "APjU7wsrcRIW",
        "outputId": "1f6355f6-e0dd-418d-910e-34cc4454aced"
      },
      "execution_count": 25,
      "outputs": [
        {
          "output_type": "execute_result",
          "data": {
            "text/plain": [
              "array([2, 4])"
            ]
          },
          "metadata": {},
          "execution_count": 25
        }
      ]
    },
    {
      "cell_type": "markdown",
      "source": [
        "12. How to remove from one array those items that exist in another?"
      ],
      "metadata": {
        "id": "SU0XIl8JcRYv"
      }
    },
    {
      "cell_type": "code",
      "source": [
        "a = np.array([1,2,3,4,5])\n",
        "b = np.array([5,6,7,8,9])\n",
        "np.setdiff1d(a,b)"
      ],
      "metadata": {
        "colab": {
          "base_uri": "https://localhost:8080/"
        },
        "id": "-6mhZjgDcRqv",
        "outputId": "5d46e308-93e1-41ec-fec6-95e266ab4753"
      },
      "execution_count": 26,
      "outputs": [
        {
          "output_type": "execute_result",
          "data": {
            "text/plain": [
              "array([1, 2, 3, 4])"
            ]
          },
          "metadata": {},
          "execution_count": 26
        }
      ]
    },
    {
      "cell_type": "markdown",
      "source": [
        "13. How to get the positions where elements of two arrays match?"
      ],
      "metadata": {
        "id": "uP_xn4mPcR5m"
      }
    },
    {
      "cell_type": "code",
      "source": [
        "a = np.array([1,2,3,2,3,4,3,4,5,6])\n",
        "b = np.array([7,2,10,2,7,4,9,4,9,8])\n",
        "np.where(a == b)"
      ],
      "metadata": {
        "colab": {
          "base_uri": "https://localhost:8080/"
        },
        "id": "mGHwm54LcSKv",
        "outputId": "f5c53d3f-2314-4571-8cfe-39460ebb2606"
      },
      "execution_count": 27,
      "outputs": [
        {
          "output_type": "execute_result",
          "data": {
            "text/plain": [
              "(array([1, 3, 5, 7]),)"
            ]
          },
          "metadata": {},
          "execution_count": 27
        }
      ]
    },
    {
      "cell_type": "markdown",
      "source": [
        "14. How to extract all numbers between a given range from a numpy array?"
      ],
      "metadata": {
        "id": "3AthwwzacStl"
      }
    },
    {
      "cell_type": "code",
      "source": [
        "a = np.array([2, 6, 1, 9, 10, 3, 27])\n",
        "a[(a >= 5) & (a <= 10)]"
      ],
      "metadata": {
        "colab": {
          "base_uri": "https://localhost:8080/"
        },
        "id": "DIaqccDmnfna",
        "outputId": "cbffe94d-f364-498c-d609-6db6a06818a4"
      },
      "execution_count": 29,
      "outputs": [
        {
          "output_type": "execute_result",
          "data": {
            "text/plain": [
              "array([ 6,  9, 10])"
            ]
          },
          "metadata": {},
          "execution_count": 29
        }
      ]
    },
    {
      "cell_type": "markdown",
      "source": [
        "15. How to make a python function that handles scalars to work on numpy arrays?\n"
      ],
      "metadata": {
        "id": "ilun94N1nf8u"
      }
    },
    {
      "cell_type": "code",
      "source": [
        "def maxx(x, y):\n",
        "  if x >= y:\n",
        "    return x\n",
        "  else:\n",
        "    return y\n",
        "\n",
        "def pair_max(x, y):\n",
        "  maximum = [maxx(a,b) for a,b in map(lambda a,b:(a,b),x,y)]\n",
        "  return np.array(maximum)\n",
        "\n",
        "a = np.array([5, 7, 9, 8, 6, 4, 5])\n",
        "b = np.array([6, 3, 4, 8, 9, 7, 1])\n",
        "\n",
        "pair_max(a,b)"
      ],
      "metadata": {
        "colab": {
          "base_uri": "https://localhost:8080/"
        },
        "id": "PANUxcHsngMX",
        "outputId": "7f6deb3a-7ca0-4b47-d6de-75fd66a7aebe"
      },
      "execution_count": 31,
      "outputs": [
        {
          "output_type": "execute_result",
          "data": {
            "text/plain": [
              "array([6, 7, 9, 8, 9, 7, 5])"
            ]
          },
          "metadata": {},
          "execution_count": 31
        }
      ]
    },
    {
      "cell_type": "markdown",
      "source": [
        "16. How to swap two columns in a 2d numpy array?"
      ],
      "metadata": {
        "id": "3R0CYLxLnghJ"
      }
    },
    {
      "cell_type": "code",
      "source": [
        "arr = np.arange(9).reshape(3,3)\n",
        "\n",
        "print('Original array',arr)\n",
        "\n",
        "# Solution\n",
        "\n",
        "print(\"\\nModified array\")\n",
        "arr[:, [1,0,2]]"
      ],
      "metadata": {
        "colab": {
          "base_uri": "https://localhost:8080/"
        },
        "id": "I2hap9Yengut",
        "outputId": "50d84d08-553d-4dbd-ae8e-ab8bdfdee5cb"
      },
      "execution_count": 33,
      "outputs": [
        {
          "output_type": "stream",
          "name": "stdout",
          "text": [
            "Original array [[0 1 2]\n",
            " [3 4 5]\n",
            " [6 7 8]]\n",
            "\n",
            "Modified array\n"
          ]
        },
        {
          "output_type": "execute_result",
          "data": {
            "text/plain": [
              "array([[1, 0, 2],\n",
              "       [4, 3, 5],\n",
              "       [7, 6, 8]])"
            ]
          },
          "metadata": {},
          "execution_count": 33
        }
      ]
    },
    {
      "cell_type": "markdown",
      "source": [
        "17. How to swap two rows in a 2d numpy array?"
      ],
      "metadata": {
        "id": "Ir8KGUFqng8i"
      }
    },
    {
      "cell_type": "code",
      "source": [
        "arr = np.arange(9).reshape(3,3)\n",
        "print('original:',arr)\n",
        "arr[[1,0,2], :]"
      ],
      "metadata": {
        "colab": {
          "base_uri": "https://localhost:8080/"
        },
        "id": "iFpobwGonhMo",
        "outputId": "58aff4f3-a9ba-407a-d420-1e59575d755c"
      },
      "execution_count": 34,
      "outputs": [
        {
          "output_type": "stream",
          "name": "stdout",
          "text": [
            "original: [[0 1 2]\n",
            " [3 4 5]\n",
            " [6 7 8]]\n"
          ]
        },
        {
          "output_type": "execute_result",
          "data": {
            "text/plain": [
              "array([[3, 4, 5],\n",
              "       [0, 1, 2],\n",
              "       [6, 7, 8]])"
            ]
          },
          "metadata": {},
          "execution_count": 34
        }
      ]
    },
    {
      "cell_type": "markdown",
      "source": [
        "\n",
        "18. How to reverse the rows of a 2D array?\n"
      ],
      "metadata": {
        "id": "HIDjBaMSnhf4"
      }
    },
    {
      "cell_type": "code",
      "source": [
        "arr = np.arange(9).reshape(3,3)\n",
        "\n",
        "print('Original array',arr)\n",
        "\n",
        "print(\"\\nModified array\")\n",
        "arr[::-1, :]"
      ],
      "metadata": {
        "colab": {
          "base_uri": "https://localhost:8080/"
        },
        "id": "w7xZNw4jnhui",
        "outputId": "342279fd-5937-498f-ba5d-c0ee09daebda"
      },
      "execution_count": 36,
      "outputs": [
        {
          "output_type": "stream",
          "name": "stdout",
          "text": [
            "Original array [[0 1 2]\n",
            " [3 4 5]\n",
            " [6 7 8]]\n",
            "\n",
            "Modified array\n"
          ]
        },
        {
          "output_type": "execute_result",
          "data": {
            "text/plain": [
              "array([[6, 7, 8],\n",
              "       [3, 4, 5],\n",
              "       [0, 1, 2]])"
            ]
          },
          "metadata": {},
          "execution_count": 36
        }
      ]
    },
    {
      "cell_type": "markdown",
      "source": [
        "19. How to reverse the columns of a 2D array?"
      ],
      "metadata": {
        "id": "g45OW2g-nh8S"
      }
    },
    {
      "cell_type": "code",
      "source": [
        "arr = np.arange(9).reshape(3,3)\n",
        "print('Original array',arr)\n",
        "\n",
        "print(\"\\nModified array\")\n",
        "arr[:, ::-1]"
      ],
      "metadata": {
        "colab": {
          "base_uri": "https://localhost:8080/"
        },
        "id": "phOY42gFniLL",
        "outputId": "7caec99f-db6e-4c9c-f3df-a5a12d0986c5"
      },
      "execution_count": 37,
      "outputs": [
        {
          "output_type": "stream",
          "name": "stdout",
          "text": [
            "Original array [[0 1 2]\n",
            " [3 4 5]\n",
            " [6 7 8]]\n",
            "\n",
            "Modified array\n"
          ]
        },
        {
          "output_type": "execute_result",
          "data": {
            "text/plain": [
              "array([[2, 1, 0],\n",
              "       [5, 4, 3],\n",
              "       [8, 7, 6]])"
            ]
          },
          "metadata": {},
          "execution_count": 37
        }
      ]
    },
    {
      "cell_type": "markdown",
      "source": [
        "20. How to create a 2D array containing random floats between 5 and 10?"
      ],
      "metadata": {
        "id": "90r_wJTvniaW"
      }
    },
    {
      "cell_type": "code",
      "source": [
        "rand_arr = np.random.uniform(5,10, size = (5,3))\n",
        "rand_arr"
      ],
      "metadata": {
        "colab": {
          "base_uri": "https://localhost:8080/"
        },
        "id": "w7l_v-rEnioW",
        "outputId": "4f9aac80-45ab-48a1-d5c4-271e79348ee8"
      },
      "execution_count": 38,
      "outputs": [
        {
          "output_type": "execute_result",
          "data": {
            "text/plain": [
              "array([[8.36863262, 5.04355671, 8.77553617],\n",
              "       [9.22643482, 7.80002845, 7.32491086],\n",
              "       [8.49340661, 8.70538381, 8.84299449],\n",
              "       [7.37438396, 8.97490728, 9.77663562],\n",
              "       [9.38528795, 6.71935741, 8.62419308]])"
            ]
          },
          "metadata": {},
          "execution_count": 38
        }
      ]
    },
    {
      "cell_type": "markdown",
      "source": [],
      "metadata": {
        "id": "fq9cjEjPni2J"
      }
    },
    {
      "cell_type": "code",
      "source": [],
      "metadata": {
        "id": "gXR-6xjZnjFi"
      },
      "execution_count": null,
      "outputs": []
    }
  ]
}